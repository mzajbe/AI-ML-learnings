{
 "cells": [
  {
   "cell_type": "markdown",
   "id": "ffea2a9c",
   "metadata": {},
   "source": [
    "set is - \n",
    "        1. unique elements\n",
    "        2. mutable\n",
    "        3. unordered\n",
    "            1. no indexing\n",
    "            2. no slicing"
   ]
  },
  {
   "cell_type": "code",
   "execution_count": 1,
   "id": "d6471f72",
   "metadata": {},
   "outputs": [
    {
     "name": "stdout",
     "output_type": "stream",
     "text": [
      "<class 'set'> {1, 2, 3}\n"
     ]
    }
   ],
   "source": [
    "A = {1,2,3}\n",
    "print(type(A),A)"
   ]
  }
 ],
 "metadata": {
  "kernelspec": {
   "display_name": ".venv",
   "language": "python",
   "name": "python3"
  },
  "language_info": {
   "codemirror_mode": {
    "name": "ipython",
    "version": 3
   },
   "file_extension": ".py",
   "mimetype": "text/x-python",
   "name": "python",
   "nbconvert_exporter": "python",
   "pygments_lexer": "ipython3",
   "version": "3.13.2"
  }
 },
 "nbformat": 4,
 "nbformat_minor": 5
}
