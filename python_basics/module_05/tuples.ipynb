{
 "cells": [
  {
   "cell_type": "code",
   "execution_count": null,
   "id": "cb5f6d17",
   "metadata": {},
   "outputs": [
    {
     "name": "stdout",
     "output_type": "stream",
     "text": [
      "<class 'tuple'> (10, 20, 30, 40)\n"
     ]
    }
   ],
   "source": [
    "# declearation \n",
    "\n",
    "tup = (10,20,30,40)\n",
    "print(type(tup),tup)"
   ]
  },
  {
   "cell_type": "code",
   "execution_count": 2,
   "id": "015a2872",
   "metadata": {},
   "outputs": [
    {
     "name": "stdout",
     "output_type": "stream",
     "text": [
      "<class 'tuple'> (10.5, 10.2)\n",
      "<class 'tuple'> (10, 10.5, 'str', True)\n"
     ]
    }
   ],
   "source": [
    "float_tup = (10.5,10.2)\n",
    "mixed_tup = (10,10.5,\"str\",True)\n",
    "\n",
    "print(type(float_tup),float_tup)\n",
    "print(type(mixed_tup),mixed_tup)"
   ]
  },
  {
   "cell_type": "code",
   "execution_count": 5,
   "id": "6e2d2beb",
   "metadata": {},
   "outputs": [
    {
     "name": "stdout",
     "output_type": "stream",
     "text": [
      "<class 'int'> 10\n",
      "<class 'tuple'> (10,)\n",
      "<class 'tuple'> (10,)\n"
     ]
    }
   ],
   "source": [
    "tup1 = (10)\n",
    "print(type(tup1),tup1)\n",
    "\n",
    "tup2 = (10,)\n",
    "print(type(tup2),tup2)\n",
    "\n",
    "tup3 = tuple([10])\n",
    "print(type(tup3),tup3)"
   ]
  },
  {
   "cell_type": "code",
   "execution_count": 6,
   "id": "4444ea0a",
   "metadata": {},
   "outputs": [
    {
     "name": "stdout",
     "output_type": "stream",
     "text": [
      "<class 'tuple'> (10, 20, 30)\n"
     ]
    }
   ],
   "source": [
    "lst = [10,20,30]\n",
    "tup4 = tuple(lst)\n",
    "\n",
    "print(type(tup4),tup4)"
   ]
  },
  {
   "cell_type": "code",
   "execution_count": 10,
   "id": "790b8fde",
   "metadata": {},
   "outputs": [
    {
     "name": "stdout",
     "output_type": "stream",
     "text": [
      "str\n",
      "(30, 10.5, 'str')\n"
     ]
    }
   ],
   "source": [
    "# access \n",
    "\n",
    "tup = (10,20,30,10.5,\"str\",False)\n",
    "\n",
    "# index \n",
    "print(tup[4])\n",
    "\n",
    "# slicing \n",
    "\n",
    "new_tup = tup[2:5]\n",
    "print(new_tup)"
   ]
  },
  {
   "cell_type": "code",
   "execution_count": 14,
   "id": "863c28cc",
   "metadata": {},
   "outputs": [
    {
     "name": "stdout",
     "output_type": "stream",
     "text": [
      "2\n",
      "4\n"
     ]
    }
   ],
   "source": [
    "# tuple method \n",
    "\n",
    "tup = (10,20,20,30,40,50,60,70)\n",
    "\n",
    "print(tup.count(20))\n",
    "print(tup.index(40))"
   ]
  }
 ],
 "metadata": {
  "kernelspec": {
   "display_name": ".venv",
   "language": "python",
   "name": "python3"
  },
  "language_info": {
   "codemirror_mode": {
    "name": "ipython",
    "version": 3
   },
   "file_extension": ".py",
   "mimetype": "text/x-python",
   "name": "python",
   "nbconvert_exporter": "python",
   "pygments_lexer": "ipython3",
   "version": "3.13.2"
  }
 },
 "nbformat": 4,
 "nbformat_minor": 5
}
